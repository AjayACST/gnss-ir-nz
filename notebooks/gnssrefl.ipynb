{
 "cells": [
  {
   "metadata": {},
   "cell_type": "markdown",
   "source": "# GNSS Reflectometry Notebook\n\nThis notebook provides an overview of what we need to do to process the data that we have collected.\n\n\n## Step 1\nFirst we will setup the environment variables, this sets the locations of the code, orbit files and exes that will be used in the processing of the data. Do not change this unless you know what you are doing.",
   "id": "7cb63c2aad213af1"
  },
  {
   "metadata": {
    "trusted": false
   },
   "cell_type": "code",
   "source": "import os\n\nfrom gnssrefl.utils import check_environment, set_environment, get_sys\nfrom pathlib import Path\nnotebook_dir = Path.cwd()\n\nexists = check_environment()\nif exists == False:\n    set_environment(refl_code=str(notebook_dir / \"refl_code\"),\n                    orbits=str(Path(\"/etc/gnssrefl/orbits\")),\n                    exe=str(Path(\"/etc/gnssrefl/exe\")))\n\n# Set local variable of refl_code location\nrefl_code_loc = os.environ['REFL_CODE']\n\n# import gnssrefl functions\nfrom gnssrefl.rinex2snr_cl import rinex2snr\nfrom gnssrefl.nmea2snr_cl import nmea2snr\nfrom gnssrefl.quickLook_cl import quicklook\nfrom gnssrefl.installexe_cl import installexe\nfrom gnssrefl.gnssir_cl import gnssir\nfrom gnssrefl.daily_avg_cl import daily_avg\n\n%matplotlib inline",
   "id": "e7e807b7-b95d-4a97-971f-679cd98e02ac",
   "outputs": [],
   "execution_count": null
  },
  {
   "metadata": {},
   "cell_type": "markdown",
   "source": [
    "## Step 2\n",
    "Now we will run the nmea2snr function. This function will convert the NMEA sentence data that we collected into a structured SNR file that can be used for further processing."
   ],
   "id": "79beebf299c68738"
  },
  {
   "cell_type": "code",
   "id": "0ac0dc7b-c215-4ccb-9a4e-fa96e563cf79",
   "metadata": {
    "trusted": false
   },
   "source": "refl_code_loc = os.environ['REFL_CODE']\nprint(\"refl_code location:\", refl_code_loc)\n\nstation = 'fiel'\nyear = 2025\ndoy=140\ndoy_end=145\n\nnmea2snr(station, year, doy, lat=-44.71658583, lon=169.17848417, height=4.5, debug=True)",
   "outputs": [],
   "execution_count": null
  },
  {
   "metadata": {},
   "cell_type": "markdown",
   "source": [
    "## Step 3\n",
    "This code will run the [quicklook](https://gnssrefl.readthedocs.io/en/latest/api/gnssrefl.quickLook_cl.html) function of the gnssrefl package. This function reads in the SNR file that we just created, and outputs some plots and a summary of the data. It's useful to quickly check your data quality and check it looks correct.\n",
    "\n",
    "This code only outputs graphs for one day at a time so set doy (day of year) to the day you want to check."
   ],
   "id": "b1123cc93aff8d06"
  },
  {
   "cell_type": "code",
   "id": "1a775323-90b8-47c1-aaca-3ff93cc6c67d",
   "metadata": {
    "trusted": false
   },
   "source": "values, metrics = quicklook(station, year, doy=140, plt=True)",
   "outputs": [],
   "execution_count": null
  },
  {
   "cell_type": "code",
   "id": "959a5211-178a-4c06-a2b9-e16f8bee254a",
   "metadata": {
    "trusted": false
   },
   "source": "gnssir?",
   "outputs": [],
   "execution_count": null
  },
  {
   "cell_type": "code",
   "id": "bbc86b86-faf5-486f-86f7-3596581b3b0d",
   "metadata": {
    "trusted": false
   },
   "source": "gnssir(station, year, doy, doy_end=doy_end, plt=True)",
   "outputs": [],
   "execution_count": null
  },
  {
   "cell_type": "code",
   "id": "59c21930-3c75-4397-a42f-6c49a3c9dc96",
   "metadata": {
    "trusted": false
   },
   "source": "daily_avg?",
   "outputs": [],
   "execution_count": null
  },
  {
   "cell_type": "code",
   "id": "584745c2-adc2-48b3-891e-0372f481ea85",
   "metadata": {
    "trusted": false
   },
   "source": "daily_avg('fiel', 0.25, 10)",
   "outputs": [],
   "execution_count": null
  }
 ],
 "metadata": {
  "kernelspec": {
   "display_name": "Python 3 (ipykernel)",
   "language": "python",
   "name": "python3"
  },
  "language_info": {
   "codemirror_mode": {
    "name": "ipython",
    "version": 3
   },
   "file_extension": ".py",
   "mimetype": "text/x-python",
   "name": "python",
   "nbconvert_exporter": "python",
   "pygments_lexer": "ipython3",
   "version": "3.12.10"
  }
 },
 "nbformat": 4,
 "nbformat_minor": 5
}
