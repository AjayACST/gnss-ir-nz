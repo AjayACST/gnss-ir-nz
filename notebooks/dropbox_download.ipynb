{
 "cells": [
  {
   "metadata": {},
   "cell_type": "markdown",
   "source": [
    "# Dropbox Download Notebook\n",
    "This notebook downloads the NMEA data from Dropbox, parses the multiple hourly files into a single daily file, and saves it in the correct folder.\n",
    "\n",
    "<b>Note:</b> This notebook requires the credentials file generated in the `dropbox_credentials.ipynb` notebook to be present in the same directory."
   ],
   "id": "73c81a0c209a5971"
  },
  {
   "cell_type": "code",
   "id": "initial_id",
   "metadata": {
    "collapsed": true,
    "ExecuteTime": {
     "end_time": "2025-06-05T23:28:29.495813Z",
     "start_time": "2025-06-05T23:28:29.482813Z"
    }
   },
   "source": [
    "from dropbox import Dropbox\n",
    "import json"
   ],
   "outputs": [],
   "execution_count": 2
  },
  {
   "metadata": {},
   "cell_type": "markdown",
   "source": "The below code will ensure that the access token is valid and refresh it if necessary.",
   "id": "22c2ca6385f53e18"
  },
  {
   "metadata": {
    "ExecuteTime": {
     "end_time": "2025-06-05T23:34:56.942809Z",
     "start_time": "2025-06-05T23:34:56.822845Z"
    }
   },
   "cell_type": "code",
   "source": [
    "app_key = 'your_app_key_here'\n",
    "app_secret = 'your_app_secret_here'\n",
    "\n",
    "def load_credentials():\n",
    "    try:\n",
    "        with open('dropbox_creds.json', 'r') as f:\n",
    "            creds = json.load(f)\n",
    "            return creds\n",
    "    except FileNotFoundError:\n",
    "        print(\"Credentials file not found. Please run the dropbox_credentials.ipynb notebook first.\")\n",
    "        return None\n",
    "\n",
    "\n",
    "def create_dropbox_client():\n",
    "    creds = load_credentials()\n",
    "    if creds is None:\n",
    "        return None\n",
    "    access_token = creds['access_token']\n",
    "    refresh_token = creds['refresh_token']\n",
    "    dbx = Dropbox(app_key=app_key, app_secret=app_secret, oauth2_access_token=access_token, oauth2_refresh_token=refresh_token)\n",
    "    dbx.refresh_access_token()\n",
    "\n",
    "    return dbx\n",
    "\n",
    "dbx = create_dropbox_client()\n",
    "if dbx is None:\n",
    "    print(\"Failed to create Dropbox client. Exiting.\")\n",
    "\n",
    "print(dbx.users_get_current_account())"
   ],
   "id": "6d714220f54196d8",
   "outputs": [
    {
     "ename": "FileNotFoundError",
     "evalue": "[Errno 2] No such file or directory: 'dropbox_creds.json'",
     "output_type": "error",
     "traceback": [
      "\u001B[31m---------------------------------------------------------------------------\u001B[39m",
      "\u001B[31mFileNotFoundError\u001B[39m                         Traceback (most recent call last)",
      "\u001B[36mCell\u001B[39m\u001B[36m \u001B[39m\u001B[32mIn[8]\u001B[39m\u001B[32m, line 18\u001B[39m\n\u001B[32m     14\u001B[39m     dbx.refresh_access_token()\n\u001B[32m     16\u001B[39m     \u001B[38;5;28;01mreturn\u001B[39;00m dbx\n\u001B[32m---> \u001B[39m\u001B[32m18\u001B[39m dbx = \u001B[43mcreate_dropbox_client\u001B[49m\u001B[43m(\u001B[49m\u001B[43m)\u001B[49m\n\u001B[32m     19\u001B[39m \u001B[38;5;28mprint\u001B[39m(dbx.users_get_current_account())\n",
      "\u001B[36mCell\u001B[39m\u001B[36m \u001B[39m\u001B[32mIn[8]\u001B[39m\u001B[32m, line 10\u001B[39m, in \u001B[36mcreate_dropbox_client\u001B[39m\u001B[34m()\u001B[39m\n\u001B[32m      9\u001B[39m \u001B[38;5;28;01mdef\u001B[39;00m\u001B[38;5;250m \u001B[39m\u001B[34mcreate_dropbox_client\u001B[39m():\n\u001B[32m---> \u001B[39m\u001B[32m10\u001B[39m     creds = \u001B[43mload_credentials\u001B[49m\u001B[43m(\u001B[49m\u001B[43m)\u001B[49m\n\u001B[32m     11\u001B[39m     access_token = creds[\u001B[33m'\u001B[39m\u001B[33maccess_token\u001B[39m\u001B[33m'\u001B[39m]\n\u001B[32m     12\u001B[39m     refresh_token = creds[\u001B[33m'\u001B[39m\u001B[33mrefresh_token\u001B[39m\u001B[33m'\u001B[39m]\n",
      "\u001B[36mCell\u001B[39m\u001B[36m \u001B[39m\u001B[32mIn[8]\u001B[39m\u001B[32m, line 5\u001B[39m, in \u001B[36mload_credentials\u001B[39m\u001B[34m()\u001B[39m\n\u001B[32m      4\u001B[39m \u001B[38;5;28;01mdef\u001B[39;00m\u001B[38;5;250m \u001B[39m\u001B[34mload_credentials\u001B[39m():\n\u001B[32m----> \u001B[39m\u001B[32m5\u001B[39m     \u001B[38;5;28;01mwith\u001B[39;00m \u001B[38;5;28;43mopen\u001B[39;49m\u001B[43m(\u001B[49m\u001B[33;43m'\u001B[39;49m\u001B[33;43mdropbox_creds.json\u001B[39;49m\u001B[33;43m'\u001B[39;49m\u001B[43m,\u001B[49m\u001B[43m \u001B[49m\u001B[33;43m'\u001B[39;49m\u001B[33;43mr\u001B[39;49m\u001B[33;43m'\u001B[39;49m\u001B[43m)\u001B[49m \u001B[38;5;28;01mas\u001B[39;00m f:\n\u001B[32m      6\u001B[39m         creds = json.load(f)\n\u001B[32m      7\u001B[39m         \u001B[38;5;28;01mreturn\u001B[39;00m creds\n",
      "\u001B[36mFile \u001B[39m\u001B[32m/opt/conda/lib/python3.12/site-packages/IPython/core/interactiveshell.py:327\u001B[39m, in \u001B[36m_modified_open\u001B[39m\u001B[34m(file, *args, **kwargs)\u001B[39m\n\u001B[32m    320\u001B[39m \u001B[38;5;28;01mif\u001B[39;00m file \u001B[38;5;129;01min\u001B[39;00m {\u001B[32m0\u001B[39m, \u001B[32m1\u001B[39m, \u001B[32m2\u001B[39m}:\n\u001B[32m    321\u001B[39m     \u001B[38;5;28;01mraise\u001B[39;00m \u001B[38;5;167;01mValueError\u001B[39;00m(\n\u001B[32m    322\u001B[39m         \u001B[33mf\u001B[39m\u001B[33m\"\u001B[39m\u001B[33mIPython won\u001B[39m\u001B[33m'\u001B[39m\u001B[33mt let you open fd=\u001B[39m\u001B[38;5;132;01m{\u001B[39;00mfile\u001B[38;5;132;01m}\u001B[39;00m\u001B[33m by default \u001B[39m\u001B[33m\"\u001B[39m\n\u001B[32m    323\u001B[39m         \u001B[33m\"\u001B[39m\u001B[33mas it is likely to crash IPython. If you know what you are doing, \u001B[39m\u001B[33m\"\u001B[39m\n\u001B[32m    324\u001B[39m         \u001B[33m\"\u001B[39m\u001B[33myou can use builtins\u001B[39m\u001B[33m'\u001B[39m\u001B[33m open.\u001B[39m\u001B[33m\"\u001B[39m\n\u001B[32m    325\u001B[39m     )\n\u001B[32m--> \u001B[39m\u001B[32m327\u001B[39m \u001B[38;5;28;01mreturn\u001B[39;00m \u001B[43mio_open\u001B[49m\u001B[43m(\u001B[49m\u001B[43mfile\u001B[49m\u001B[43m,\u001B[49m\u001B[43m \u001B[49m\u001B[43m*\u001B[49m\u001B[43margs\u001B[49m\u001B[43m,\u001B[49m\u001B[43m \u001B[49m\u001B[43m*\u001B[49m\u001B[43m*\u001B[49m\u001B[43mkwargs\u001B[49m\u001B[43m)\u001B[49m\n",
      "\u001B[31mFileNotFoundError\u001B[39m: [Errno 2] No such file or directory: 'dropbox_creds.json'"
     ]
    }
   ],
   "execution_count": 8
  },
  {
   "metadata": {},
   "cell_type": "code",
   "outputs": [],
   "execution_count": null,
   "source": "",
   "id": "a1cfa9f69ff00156"
  }
 ],
 "metadata": {
  "kernelspec": {
   "display_name": "Python 3",
   "language": "python",
   "name": "python3"
  },
  "language_info": {
   "codemirror_mode": {
    "name": "ipython",
    "version": 2
   },
   "file_extension": ".py",
   "mimetype": "text/x-python",
   "name": "python",
   "nbconvert_exporter": "python",
   "pygments_lexer": "ipython2",
   "version": "2.7.6"
  }
 },
 "nbformat": 4,
 "nbformat_minor": 5
}
