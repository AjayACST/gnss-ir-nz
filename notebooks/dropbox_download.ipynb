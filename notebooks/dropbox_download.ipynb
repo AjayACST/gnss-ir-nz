{
 "cells": [
  {
   "metadata": {},
   "cell_type": "markdown",
   "source": [
    "# Dropbox OAuth2 Credentials Notebook\n",
    "This notebook implements the OAuth2 flow for Dropbox to download the credentials needed to access your Dropbox account."
   ],
   "id": "90274fb0efb25881"
  },
  {
   "cell_type": "code",
   "id": "initial_id",
   "metadata": {
    "collapsed": true
   },
   "source": [
    "from dropbox.oauth import DropboxOAuth2FlowNoRedirect\n",
    "import json"
   ],
   "outputs": [],
   "execution_count": null
  },
  {
   "metadata": {},
   "cell_type": "markdown",
   "source": [
    "## Step 1\n",
    "Get the credentials for your dropbox app. The [tutorial in section 1.4](https://github.com/AjayACST/gnss-ir-nz/blob/main/tutorial_pdfindex.pdf) has instructions on how to get your app_key and app_secret, paste them below.\n",
    "\n",
    "Copy the link generated into a new tab in your browser, and paste the authorization code that you get back into the input below."
   ],
   "id": "711624b75820e3f1"
  },
  {
   "metadata": {},
   "cell_type": "code",
   "source": [
    "app_key = 'your_app_key_here'\n",
    "app_secret = 'your_app_secret_here'\n",
    "\n",
    "flow = DropboxOAuth2FlowNoRedirect(\n",
    "    consumer_key=app_key,\n",
    "    consumer_secret=app_secret,\n",
    "    token_access_type='offline',\n",
    ")\n",
    "\n",
    "authorize_url = flow.start()\n",
    "\n",
    "print(\"\\n1. Go to: {}\".format(authorize_url))\n",
    "print(\"2. Click \\\"Allow\\\" (you might have to log in first).\")\n",
    "print(\"3. Copy the authorization code.\\n\")\n",
    "\n",
    "auth_code = input(\"Enter the authorization code here: \").strip()\n",
    "\n",
    "try:\n",
    "    oauth_result = flow.finish(auth_code)\n",
    "except Exception as e:\n",
    "    print(\"Error: {}\".format(e))\n",
    "    exit(1)\n",
    "\n",
    "creds = {\n",
    "    \"access_token\": oauth_result.access_token,\n",
    "    \"refresh_token\": oauth_result.refresh_token,\n",
    "    \"expiration\": oauth_result.expires_at.strftime(\"%m/%d/%Y, %H:%M:%S\"),\n",
    "}\n",
    "\n",
    "out_path = 'dropbox_creds.json'\n",
    "\n",
    "with open(out_path, 'w') as f:\n",
    "    json.dump(creds, f)\n",
    "print(f\"Credentials saved to {out_path}\")"
   ],
   "id": "8f091b2266f0ac57",
   "outputs": [],
   "execution_count": null
  },
  {
   "metadata": {},
   "cell_type": "markdown",
   "source": "If you are using these credentials for the arduino, right click the new file in the file browser to the left and select \"Download\", the tutorial PDF has further instructions for next steps.",
   "id": "45541dc03a0f47ae"
  }
 ],
 "metadata": {
  "kernelspec": {
   "display_name": "Python 3",
   "language": "python",
   "name": "python3"
  },
  "language_info": {
   "codemirror_mode": {
    "name": "ipython",
    "version": 2
   },
   "file_extension": ".py",
   "mimetype": "text/x-python",
   "name": "python",
   "nbconvert_exporter": "python",
   "pygments_lexer": "ipython2",
   "version": "2.7.6"
  }
 },
 "nbformat": 4,
 "nbformat_minor": 5
}
