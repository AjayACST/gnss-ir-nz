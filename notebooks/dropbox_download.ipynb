{
 "cells": [
  {
   "cell_type": "markdown",
   "id": "73c81a0c209a5971",
   "metadata": {},
   "source": [
    "# Dropbox Download Notebook\n",
    "This notebook downloads the NMEA data from Dropbox, parses the multiple hourly files into a single daily file, and saves it in the correct folder.\n",
    "\n",
    "<b>Note:</b> This notebook requires the credentials file generated in the `dropbox_credentials.ipynb` notebook to be present in the same directory."
   ]
  },
  {
   "cell_type": "code",
   "id": "initial_id",
   "metadata": {},
   "source": [
    "from dropbox import Dropbox\n",
    "from dropbox.files import FileMetadata, FolderMetadata\n",
    "import json\n",
    "import os"
   ],
   "outputs": [],
   "execution_count": null
  },
  {
   "cell_type": "markdown",
   "id": "22c2ca6385f53e18",
   "metadata": {},
   "source": [
    "The below code will ensure that the access token is valid and refresh it if necessary."
   ]
  },
  {
   "cell_type": "code",
   "id": "6d714220f54196d8",
   "metadata": {},
   "source": [
    "app_key = '2qz4xi3bzoaige3'\n",
    "app_secret = 'aszgnzt0vunwr38'\n",
    "\n",
    "def load_credentials():\n",
    "    try:\n",
    "        with open('dropbox_creds.json', 'r') as f:\n",
    "            creds = json.load(f)\n",
    "            return creds\n",
    "    except FileNotFoundError:\n",
    "        print(\"Credentials file not found. Please run the dropbox_credentials.ipynb notebook first.\")\n",
    "        return None\n",
    "\n",
    "\n",
    "def create_dropbox_client():\n",
    "    creds = load_credentials()\n",
    "    if creds is None:\n",
    "        return None\n",
    "    access_token = creds['access_token']\n",
    "    refresh_token = creds['refresh_token']\n",
    "    dbx = Dropbox(app_key=app_key, app_secret=app_secret, oauth2_access_token=access_token, oauth2_refresh_token=refresh_token)\n",
    "    dbx.refresh_access_token()\n",
    "\n",
    "    return dbx\n",
    "\n",
    "dbx = create_dropbox_client()\n",
    "if dbx is None:\n",
    "    print(\"Failed to create Dropbox client.\")\n",
    "else:\n",
    "    print(f\"Successfully connected to Dropbox account: {dbx.users_get_current_account().name.display_name}\")"
   ],
   "outputs": [],
   "execution_count": null
  },
  {
   "cell_type": "code",
   "id": "a1cfa9f69ff00156",
   "metadata": {},
   "source": [
    "def download_files():\n",
    "    \"\"\"\n",
    "    Downloads all files from Dropbox.\n",
    "    \"\"\"\n",
    "    os.makedirs(\"tmp\", exist_ok=True)"
   ],
   "outputs": [],
   "execution_count": null
  },
  {
   "cell_type": "code",
   "id": "ec6000871668049d",
   "metadata": {},
   "source": [
    "download_files()"
   ],
   "outputs": [],
   "execution_count": null
  },
  {
   "cell_type": "code",
   "id": "c4657244ce59ffc",
   "metadata": {},
   "source": [],
   "outputs": [],
   "execution_count": null
  }
 ],
 "metadata": {
  "kernelspec": {
   "display_name": "Python 3 (ipykernel)",
   "language": "python",
   "name": "python3"
  },
  "language_info": {
   "codemirror_mode": {
    "name": "ipython",
    "version": 3
   },
   "file_extension": ".py",
   "mimetype": "text/x-python",
   "name": "python",
   "nbconvert_exporter": "python",
   "pygments_lexer": "ipython3",
   "version": "3.11.5"
  }
 },
 "nbformat": 4,
 "nbformat_minor": 5
}
