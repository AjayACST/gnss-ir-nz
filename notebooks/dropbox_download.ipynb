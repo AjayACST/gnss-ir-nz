{
 "cells": [
  {
   "cell_type": "markdown",
   "id": "73c81a0c209a5971",
   "metadata": {},
   "source": [
    "# Dropbox Download Notebook\n",
    "This notebook downloads the NMEA data from Dropbox, parses the multiple hourly files into a single daily file, and saves it in the correct folder.\n",
    "\n",
    "<b>Note:</b> This notebook requires the credentials file generated in the `dropbox_credentials.ipynb` notebook to be present in the same directory."
   ]
  },
  {
   "cell_type": "code",
   "execution_count": 8,
   "id": "initial_id",
   "metadata": {},
   "outputs": [],
   "source": [
    "from dropbox import Dropbox\n",
    "from dropbox.files import FileMetadata, FolderMetadata\n",
    "from datetime import datetime\n",
    "import json\n",
    "import os"
   ]
  },
  {
   "cell_type": "markdown",
   "id": "22c2ca6385f53e18",
   "metadata": {},
   "source": [
    "The below code will ensure that the access token is valid and refresh it if necessary."
   ]
  },
  {
   "cell_type": "code",
   "execution_count": 9,
   "id": "6d714220f54196d8",
   "metadata": {},
   "outputs": [
    {
     "name": "stdout",
     "output_type": "stream",
     "text": [
      "Successfully connected to Dropbox account:Ajay Quirk\n"
     ]
    }
   ],
   "source": [
    "app_key = '2qz4xi3bzoaige3'\n",
    "app_secret = 'aszgnzt0vunwr38'\n",
    "\n",
    "\n",
    "def load_credentials():\n",
    "    try:\n",
    "        with open('dropbox_creds.json', 'r') as f:\n",
    "            creds = json.load(f)\n",
    "            return creds\n",
    "    except FileNotFoundError:\n",
    "        print(\"Credentials file not found. Please run the dropbox_credentials.ipynb notebook first.\")\n",
    "        return None\n",
    "\n",
    "\n",
    "def create_dropbox_client():\n",
    "    creds = load_credentials()\n",
    "    if creds is None:\n",
    "        return None\n",
    "    access_token = creds['access_token']\n",
    "    refresh_token = creds['refresh_token']\n",
    "    dbx = Dropbox(app_key=app_key,\n",
    "                  app_secret=app_secret,\n",
    "                  oauth2_access_token=access_token,\n",
    "                  oauth2_refresh_token=refresh_token)\n",
    "    dbx.refresh_access_token()\n",
    "\n",
    "    return dbx\n",
    "\n",
    "\n",
    "dbx = create_dropbox_client()\n",
    "if dbx is None:\n",
    "    print(\"Failed to create Dropbox client.\")\n",
    "else:\n",
    "    print(\"Successfully connected to Dropbox account:\" + \n",
    "          f\"{dbx.users_get_current_account().name.display_name}\")"
   ]
  },
  {
   "cell_type": "code",
   "execution_count": 13,
   "id": "a1cfa9f69ff00156",
   "metadata": {},
   "outputs": [],
   "source": [
    "def download_files():\n",
    "    \"\"\"\n",
    "    Downloads all files from Dropbox into a tmp directory.\n",
    "    \"\"\"\n",
    "    os.makedirs(\"tmp\", exist_ok=True)\n",
    "\n",
    "    entries = []\n",
    "    result = dbx.files_list_folder(\"\")\n",
    "    entries.extend(result.entries)\n",
    "\n",
    "    downloaded = []\n",
    "\n",
    "    # handle pagination\n",
    "    while result.has_more:\n",
    "        result = dbx.files_list_folder_continue(result.cursor)\n",
    "        entries.extend(result.entries)\n",
    "\n",
    "    for entry in entries:\n",
    "        if isinstance(entry, FileMetadata):\n",
    "            remote_path = entry.path_lower\n",
    "            fname = os.path.basename(remote_path)\n",
    "            name, _ = os.path.splitext(fname)\n",
    "            local_path = os.path.join(\"tmp\", fname)\n",
    "\n",
    "            print(f\"Downloading {remote_path} -> {local_path} ...\")\n",
    "            dbx.files_download_to_file(local_path, remote_path)\n",
    "            try:\n",
    "                downloaded.append(datetime.strptime(name, \"%y%m%d%H\"))\n",
    "            except ValueError:\n",
    "                # skip this file it has an invalid date, is probably default.log\n",
    "                print(f\"Deleting file {fname} due to invalid date format\")\n",
    "                os.remove(local_path)\n",
    "        else:\n",
    "            print(f\"Skipping folder/other file type: {entry.path_lower}\")\n",
    "\n",
    "    print(\"Finished Downloading!\")\n",
    "    return downloaded"
   ]
  },
  {
   "cell_type": "code",
   "execution_count": 14,
   "id": "ec6000871668049d",
   "metadata": {},
   "outputs": [
    {
     "name": "stdout",
     "output_type": "stream",
     "text": [
      "Downloading /default.log -> tmp/default.log ...\n",
      "Deleting file default.log due to invalid date format\n",
      "Downloading /25051005.log -> tmp/25051005.log ...\n",
      "Downloading /25051100.log -> tmp/25051100.log ...\n",
      "Downloading /25051101.log -> tmp/25051101.log ...\n",
      "Downloading /25051102.log -> tmp/25051102.log ...\n",
      "Downloading /25051103.log -> tmp/25051103.log ...\n",
      "Downloading /25051105.log -> tmp/25051105.log ...\n",
      "Downloading /25051106.log -> tmp/25051106.log ...\n",
      "Downloading /25051107.log -> tmp/25051107.log ...\n",
      "Downloading /25051110.log -> tmp/25051110.log ...\n",
      "Downloading /25051111.log -> tmp/25051111.log ...\n",
      "Downloading /25051112.log -> tmp/25051112.log ...\n",
      "Downloading /25051115.log -> tmp/25051115.log ...\n",
      "Downloading /25051116.log -> tmp/25051116.log ...\n",
      "Downloading /25051117.log -> tmp/25051117.log ...\n",
      "Downloading /25051120.log -> tmp/25051120.log ...\n",
      "Downloading /25051121.log -> tmp/25051121.log ...\n",
      "Downloading /25051122.log -> tmp/25051122.log ...\n",
      "Downloading /25051201.log -> tmp/25051201.log ...\n",
      "Downloading /25051202.log -> tmp/25051202.log ...\n",
      "Downloading /25051203.log -> tmp/25051203.log ...\n",
      "Downloading /25051204.log -> tmp/25051204.log ...\n",
      "Downloading /25051205.log -> tmp/25051205.log ...\n",
      "Downloading /25051206.log -> tmp/25051206.log ...\n",
      "Downloading /25051207.log -> tmp/25051207.log ...\n",
      "Downloading /25052207.log -> tmp/25052207.log ...\n",
      "Finished Downloading!\n"
     ]
    }
   ],
   "source": [
    "files_downloaded = download_files()"
   ]
  },
  {
   "cell_type": "code",
   "execution_count": 18,
   "id": "4132dc34-83ce-42cf-87eb-cb98a33397b2",
   "metadata": {},
   "outputs": [
    {
     "name": "stdout",
     "output_type": "stream",
     "text": [
      "feld1300.25.A\n",
      "feld1310.25.A\n",
      "feld1320.25.A\n",
      "feld1420.25.A\n"
     ]
    }
   ],
   "source": [
    "station_name = 'feld'\n",
    "\n",
    "downloaded_dates = []\n",
    "for file_time in files_downloaded:\n",
    "    date = file_time.date()\n",
    "    if date in downloaded_dates:\n",
    "        continue\n",
    "    downloaded_dates.append(date)\n",
    "    # Get the day of year\n",
    "    day_of_year = file_time.timetuple().tm_yday\n",
    "    output_file_name = f\"{station_name}{day_of_year}0.{date.strftime('%y')}.A\"\n",
    "    file_name = \"\"\n",
    "    # with open()"
   ]
  },
  {
   "cell_type": "code",
   "execution_count": null,
   "id": "39bbd95f-b1dc-4f16-badf-0de061300fc5",
   "metadata": {},
   "outputs": [],
   "source": []
  }
 ],
 "metadata": {
  "kernelspec": {
   "display_name": "Python 3 (ipykernel)",
   "language": "python",
   "name": "python3"
  },
  "language_info": {
   "codemirror_mode": {
    "name": "ipython",
    "version": 3
   },
   "file_extension": ".py",
   "mimetype": "text/x-python",
   "name": "python",
   "nbconvert_exporter": "python",
   "pygments_lexer": "ipython3",
   "version": "3.11.5"
  }
 },
 "nbformat": 4,
 "nbformat_minor": 5
}
