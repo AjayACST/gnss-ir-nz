{
 "cells": [
  {
   "metadata": {},
   "cell_type": "markdown",
   "source": [
    "# GNSS-IR NEMA Parser Notebook\n",
    "This notebook is used as a testing stage to read data from the SD card parse the NMEA sentences and then output as a CSV file\n",
    "### Import Packages"
   ],
   "id": "e25e59a29a26a2bc"
  },
  {
   "metadata": {
    "ExecuteTime": {
     "end_time": "2024-11-22T00:05:12.345550Z",
     "start_time": "2024-11-22T00:05:11.563916Z"
    }
   },
   "cell_type": "code",
   "source": [
    "import pynmea2\n",
    "import pandas as pd"
   ],
   "id": "a6910395ad368df",
   "outputs": [],
   "execution_count": 2
  },
  {
   "metadata": {
    "ExecuteTime": {
     "end_time": "2024-11-22T00:13:27.646657Z",
     "start_time": "2024-11-22T00:13:27.643669Z"
    }
   },
   "cell_type": "code",
   "source": [
    "# setup pandas dataframe\n",
    "datapoints_list = []\n",
    "prn_list = []"
   ],
   "id": "c26cffaaec343de6",
   "outputs": [],
   "execution_count": 18
  },
  {
   "metadata": {
    "ExecuteTime": {
     "end_time": "2024-11-22T00:13:28.174790Z",
     "start_time": "2024-11-22T00:13:28.163464Z"
    }
   },
   "cell_type": "code",
   "source": [
    "with open(\"../data/example.LOG\", 'r') as log:\n",
    "    for line in log:\n",
    "        try:\n",
    "            msg = pynmea2.parse(line.strip())\n",
    "            if msg.sentence_type == \"GSV\":\n",
    "                if msg.sv_prn_num_1:\n",
    "                    if int(msg.sv_prn_num_1) <= 32:\n",
    "                        if int(msg.sv_prn_num_1) not in prn_list:\n",
    "                            prn_list.append(int(msg.sv_prn_num_1))\n",
    "                        datapoints_list.append({\n",
    "                            \"prn\": msg.sv_prn_num_1,\n",
    "                            \"el\": msg.elevation_deg_1,\n",
    "                            \"az\": msg.azimuth_1,\n",
    "                            \"snr\": msg.snr_1,\n",
    "                        })\n",
    "                if msg.sv_prn_num_2:\n",
    "                    if int(msg.sv_prn_num_2) <= 32:\n",
    "                        if int(msg.sv_prn_num_2) not in prn_list:\n",
    "                            prn_list.append(int(msg.sv_prn_num_2))\n",
    "                        datapoints_list.append({\n",
    "                            \"prn\": msg.sv_prn_num_2,\n",
    "                            \"el\": msg.elevation_deg_2,\n",
    "                            \"az\": msg.azimuth_2,\n",
    "                            \"snr\": msg.snr_2,\n",
    "                        })\n",
    "\n",
    "                if msg.sv_prn_num_3:\n",
    "                    if int(msg.sv_prn_num_3) <= 32:\n",
    "                        if int(msg.sv_prn_num_3) not in prn_list:\n",
    "                            prn_list.append(int(msg.sv_prn_num_3))\n",
    "                        datapoints_list.append({\n",
    "                            \"prn\": msg.sv_prn_num_3,\n",
    "                            \"el\": msg.elevation_deg_3,\n",
    "                            \"az\": msg.azimuth_3,\n",
    "                            \"snr\": msg.snr_3,\n",
    "                        })\n",
    "\n",
    "                if msg.sv_prn_num_4:\n",
    "                    if int(msg.sv_prn_num_4) not in prn_list:\n",
    "                        prn_list.append(int(msg.sv_prn_num_4))\n",
    "                    if int(msg.sv_prn_num_4) <= 32:\n",
    "                        datapoints_list.append({\n",
    "                            \"prn\": msg.sv_prn_num_4,\n",
    "                            \"el\": msg.elevation_deg_4,\n",
    "                            \"az\": msg.azimuth_4,\n",
    "                            \"snr\": msg.snr_4,\n",
    "                        })\n",
    "\n",
    "        except pynmea2.ParseError:\n",
    "            # This is caused by the blank line\n",
    "            pass\n",
    "\n",
    "data = pd.DataFrame(datapoints_list)\n",
    "prn_data = pd.DataFrame(prn_list)"
   ],
   "id": "96e6632b005cd385",
   "outputs": [],
   "execution_count": 19
  },
  {
   "metadata": {
    "ExecuteTime": {
     "end_time": "2024-11-22T00:13:29.672900Z",
     "start_time": "2024-11-22T00:13:29.666161Z"
    }
   },
   "cell_type": "code",
   "source": [
    "data.to_csv(\"../data/example.csv\", index=False)\n",
    "prn_data.to_csv(\"../data/prn.csv\", index=False)"
   ],
   "id": "5e76a9c2d5109bf5",
   "outputs": [],
   "execution_count": 20
  },
  {
   "metadata": {},
   "cell_type": "code",
   "outputs": [],
   "execution_count": null,
   "source": "",
   "id": "d2e142191b228cf3"
  }
 ],
 "metadata": {
  "kernelspec": {
   "display_name": "Python 3",
   "language": "python",
   "name": "python3"
  },
  "language_info": {
   "codemirror_mode": {
    "name": "ipython",
    "version": 2
   },
   "file_extension": ".py",
   "mimetype": "text/x-python",
   "name": "python",
   "nbconvert_exporter": "python",
   "pygments_lexer": "ipython2",
   "version": "2.7.6"
  }
 },
 "nbformat": 4,
 "nbformat_minor": 5
}
